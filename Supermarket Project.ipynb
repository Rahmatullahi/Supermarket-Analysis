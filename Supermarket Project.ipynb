{
 "cells": [
  {
   "cell_type": "code",
   "execution_count": 1,
   "id": "6c5c79f3",
   "metadata": {},
   "outputs": [],
   "source": [
    "# importing important modules\n",
    "import pandas as pd\n",
    "import numpy as np\n",
    "import matplotlib.pyplot as plt\n",
    "import seaborn as sns"
   ]
  },
  {
   "cell_type": "code",
   "execution_count": 2,
   "id": "4fcc0392",
   "metadata": {},
   "outputs": [],
   "source": [
    "# reading the dataset\n",
    "market = pd.read_excel(\"Supermarket_Sales.xlsx\")"
   ]
  },
  {
   "cell_type": "code",
   "execution_count": 3,
   "id": "694552b9",
   "metadata": {},
   "outputs": [
    {
     "data": {
      "text/html": [
       "<div>\n",
       "<style scoped>\n",
       "    .dataframe tbody tr th:only-of-type {\n",
       "        vertical-align: middle;\n",
       "    }\n",
       "\n",
       "    .dataframe tbody tr th {\n",
       "        vertical-align: top;\n",
       "    }\n",
       "\n",
       "    .dataframe thead th {\n",
       "        text-align: right;\n",
       "    }\n",
       "</style>\n",
       "<table border=\"1\" class=\"dataframe\">\n",
       "  <thead>\n",
       "    <tr style=\"text-align: right;\">\n",
       "      <th></th>\n",
       "      <th>RowID</th>\n",
       "      <th>Invoice ID</th>\n",
       "      <th>Branch</th>\n",
       "      <th>City</th>\n",
       "      <th>Customer type</th>\n",
       "      <th>Gender</th>\n",
       "      <th>Product line</th>\n",
       "      <th>Unit price</th>\n",
       "      <th>Quantity</th>\n",
       "      <th>Tax 5%</th>\n",
       "      <th>...</th>\n",
       "      <th>Date</th>\n",
       "      <th>Time</th>\n",
       "      <th>Payment</th>\n",
       "      <th>cost_of_goods_sold</th>\n",
       "      <th>gross margin percentage</th>\n",
       "      <th>gross income</th>\n",
       "      <th>Rating</th>\n",
       "      <th>Year in City</th>\n",
       "      <th>Age</th>\n",
       "      <th>ProdID</th>\n",
       "    </tr>\n",
       "  </thead>\n",
       "  <tbody>\n",
       "    <tr>\n",
       "      <th>0</th>\n",
       "      <td>0</td>\n",
       "      <td>750-67-8428</td>\n",
       "      <td>A</td>\n",
       "      <td>Yangon</td>\n",
       "      <td>Member</td>\n",
       "      <td>Female</td>\n",
       "      <td>Health and beauty</td>\n",
       "      <td>74.69</td>\n",
       "      <td>7</td>\n",
       "      <td>26.1415</td>\n",
       "      <td>...</td>\n",
       "      <td>2019-01-05</td>\n",
       "      <td>13:08:00</td>\n",
       "      <td>Ewallet</td>\n",
       "      <td>522.83</td>\n",
       "      <td>4.761905</td>\n",
       "      <td>26.1415</td>\n",
       "      <td>9.1</td>\n",
       "      <td>8</td>\n",
       "      <td>0-17</td>\n",
       "      <td>P001</td>\n",
       "    </tr>\n",
       "    <tr>\n",
       "      <th>1</th>\n",
       "      <td>1</td>\n",
       "      <td>226-31-3081</td>\n",
       "      <td>C</td>\n",
       "      <td>Naypyitaw</td>\n",
       "      <td>Normal</td>\n",
       "      <td>Female</td>\n",
       "      <td>Electronic accessories</td>\n",
       "      <td>15.28</td>\n",
       "      <td>5</td>\n",
       "      <td>3.8200</td>\n",
       "      <td>...</td>\n",
       "      <td>2019-03-08</td>\n",
       "      <td>10:29:00</td>\n",
       "      <td>Cash</td>\n",
       "      <td>76.40</td>\n",
       "      <td>4.761905</td>\n",
       "      <td>3.8200</td>\n",
       "      <td>9.6</td>\n",
       "      <td>4</td>\n",
       "      <td>18-25</td>\n",
       "      <td>P002</td>\n",
       "    </tr>\n",
       "    <tr>\n",
       "      <th>2</th>\n",
       "      <td>2</td>\n",
       "      <td>631-41-3108</td>\n",
       "      <td>A</td>\n",
       "      <td>Yangon</td>\n",
       "      <td>Normal</td>\n",
       "      <td>Male</td>\n",
       "      <td>Home and lifestyle</td>\n",
       "      <td>46.33</td>\n",
       "      <td>7</td>\n",
       "      <td>16.2155</td>\n",
       "      <td>...</td>\n",
       "      <td>2019-03-03</td>\n",
       "      <td>13:23:00</td>\n",
       "      <td>Credit card</td>\n",
       "      <td>324.31</td>\n",
       "      <td>4.761905</td>\n",
       "      <td>16.2155</td>\n",
       "      <td>7.4</td>\n",
       "      <td>6</td>\n",
       "      <td>0-17</td>\n",
       "      <td>P003</td>\n",
       "    </tr>\n",
       "    <tr>\n",
       "      <th>3</th>\n",
       "      <td>3</td>\n",
       "      <td>123-19-1176</td>\n",
       "      <td>A</td>\n",
       "      <td>Yangon</td>\n",
       "      <td>Member</td>\n",
       "      <td>Male</td>\n",
       "      <td>Health and beauty</td>\n",
       "      <td>58.22</td>\n",
       "      <td>8</td>\n",
       "      <td>23.2880</td>\n",
       "      <td>...</td>\n",
       "      <td>2019-01-27</td>\n",
       "      <td>20:33:00</td>\n",
       "      <td>Ewallet</td>\n",
       "      <td>465.76</td>\n",
       "      <td>4.761905</td>\n",
       "      <td>23.2880</td>\n",
       "      <td>8.4</td>\n",
       "      <td>3</td>\n",
       "      <td>45-50</td>\n",
       "      <td>P001</td>\n",
       "    </tr>\n",
       "    <tr>\n",
       "      <th>4</th>\n",
       "      <td>4</td>\n",
       "      <td>373-73-7910</td>\n",
       "      <td>A</td>\n",
       "      <td>Yangon</td>\n",
       "      <td>Normal</td>\n",
       "      <td>Male</td>\n",
       "      <td>Sports and travel</td>\n",
       "      <td>86.31</td>\n",
       "      <td>7</td>\n",
       "      <td>30.2085</td>\n",
       "      <td>...</td>\n",
       "      <td>2019-02-08</td>\n",
       "      <td>10:37:00</td>\n",
       "      <td>Ewallet</td>\n",
       "      <td>604.17</td>\n",
       "      <td>4.761905</td>\n",
       "      <td>30.2085</td>\n",
       "      <td>5.3</td>\n",
       "      <td>1</td>\n",
       "      <td>55+</td>\n",
       "      <td>P004</td>\n",
       "    </tr>\n",
       "  </tbody>\n",
       "</table>\n",
       "<p>5 rows × 21 columns</p>\n",
       "</div>"
      ],
      "text/plain": [
       "   RowID   Invoice ID Branch       City Customer type  Gender  \\\n",
       "0      0  750-67-8428      A     Yangon        Member  Female   \n",
       "1      1  226-31-3081      C  Naypyitaw        Normal  Female   \n",
       "2      2  631-41-3108      A     Yangon        Normal    Male   \n",
       "3      3  123-19-1176      A     Yangon        Member    Male   \n",
       "4      4  373-73-7910      A     Yangon        Normal    Male   \n",
       "\n",
       "             Product line  Unit price  Quantity   Tax 5%  ...       Date  \\\n",
       "0       Health and beauty       74.69         7  26.1415  ... 2019-01-05   \n",
       "1  Electronic accessories       15.28         5   3.8200  ... 2019-03-08   \n",
       "2      Home and lifestyle       46.33         7  16.2155  ... 2019-03-03   \n",
       "3       Health and beauty       58.22         8  23.2880  ... 2019-01-27   \n",
       "4       Sports and travel       86.31         7  30.2085  ... 2019-02-08   \n",
       "\n",
       "       Time      Payment cost_of_goods_sold  gross margin percentage  \\\n",
       "0  13:08:00      Ewallet             522.83                 4.761905   \n",
       "1  10:29:00         Cash              76.40                 4.761905   \n",
       "2  13:23:00  Credit card             324.31                 4.761905   \n",
       "3  20:33:00      Ewallet             465.76                 4.761905   \n",
       "4  10:37:00      Ewallet             604.17                 4.761905   \n",
       "\n",
       "   gross income  Rating  Year in City    Age ProdID  \n",
       "0       26.1415     9.1             8   0-17   P001  \n",
       "1        3.8200     9.6             4  18-25   P002  \n",
       "2       16.2155     7.4             6   0-17   P003  \n",
       "3       23.2880     8.4             3  45-50   P001  \n",
       "4       30.2085     5.3             1    55+   P004  \n",
       "\n",
       "[5 rows x 21 columns]"
      ]
     },
     "execution_count": 3,
     "metadata": {},
     "output_type": "execute_result"
    }
   ],
   "source": [
    "# showing the first top five rows\n",
    "market.head()"
   ]
  },
  {
   "cell_type": "code",
   "execution_count": 4,
   "id": "37535019",
   "metadata": {},
   "outputs": [
    {
     "name": "stdout",
     "output_type": "stream",
     "text": [
      "<class 'pandas.core.frame.DataFrame'>\n",
      "RangeIndex: 1000 entries, 0 to 999\n",
      "Data columns (total 21 columns):\n",
      " #   Column                   Non-Null Count  Dtype         \n",
      "---  ------                   --------------  -----         \n",
      " 0   RowID                    1000 non-null   int64         \n",
      " 1   Invoice ID               1000 non-null   object        \n",
      " 2   Branch                   1000 non-null   object        \n",
      " 3   City                     1000 non-null   object        \n",
      " 4   Customer type            1000 non-null   object        \n",
      " 5   Gender                   1000 non-null   object        \n",
      " 6   Product line             1000 non-null   object        \n",
      " 7   Unit price               1000 non-null   float64       \n",
      " 8   Quantity                 1000 non-null   int64         \n",
      " 9   Tax 5%                   1000 non-null   float64       \n",
      " 10  Total                    1000 non-null   float64       \n",
      " 11  Date                     1000 non-null   datetime64[ns]\n",
      " 12  Time                     1000 non-null   object        \n",
      " 13  Payment                  1000 non-null   object        \n",
      " 14  cost_of_goods_sold       1000 non-null   float64       \n",
      " 15  gross margin percentage  1000 non-null   float64       \n",
      " 16  gross income             1000 non-null   float64       \n",
      " 17  Rating                   1000 non-null   float64       \n",
      " 18  Year in City             1000 non-null   int64         \n",
      " 19  Age                      1000 non-null   object        \n",
      " 20  ProdID                   1000 non-null   object        \n",
      "dtypes: datetime64[ns](1), float64(7), int64(3), object(10)\n",
      "memory usage: 164.2+ KB\n"
     ]
    }
   ],
   "source": [
    "# information about the dataset\n",
    "market.info()"
   ]
  },
  {
   "cell_type": "code",
   "execution_count": 5,
   "id": "8f24af0a",
   "metadata": {},
   "outputs": [
    {
     "data": {
      "text/plain": [
       "0"
      ]
     },
     "execution_count": 5,
     "metadata": {},
     "output_type": "execute_result"
    }
   ],
   "source": [
    "market.duplicated().sum()"
   ]
  },
  {
   "cell_type": "markdown",
   "id": "8df949ca",
   "metadata": {},
   "source": [
    "#### Q1: What is the distribution of Male to Female customers? Give answers in % terms"
   ]
  },
  {
   "cell_type": "code",
   "execution_count": 6,
   "id": "86618f14",
   "metadata": {},
   "outputs": [
    {
     "data": {
      "text/plain": [
       "Female    50.1%\n",
       "Male      49.9%\n",
       "Name: Gender, dtype: object"
      ]
     },
     "execution_count": 6,
     "metadata": {},
     "output_type": "execute_result"
    }
   ],
   "source": [
    "gender_dist = market.Gender.value_counts(normalize=True).mul(100).astype(str) + '%'\n",
    "gender_dist"
   ]
  },
  {
   "cell_type": "markdown",
   "id": "b5c4665f",
   "metadata": {},
   "source": [
    "Observation: Female Customer has the highest percentage of 50.1%"
   ]
  },
  {
   "cell_type": "markdown",
   "id": "cbbcbaf0",
   "metadata": {},
   "source": [
    "#### Q2: What is the age distribution of customers? Consider drawing a histogram to answer the question"
   ]
  },
  {
   "cell_type": "code",
   "execution_count": 7,
   "id": "29162df1",
   "metadata": {
    "scrolled": true
   },
   "outputs": [
    {
     "data": {
      "text/plain": [
       "45-50    156\n",
       "55+      148\n",
       "36-45    147\n",
       "18-25    146\n",
       "51-55    141\n",
       "0-17     133\n",
       "26-35    129\n",
       "Name: Age, dtype: int64"
      ]
     },
     "execution_count": 7,
     "metadata": {},
     "output_type": "execute_result"
    }
   ],
   "source": [
    "market.Age.value_counts()"
   ]
  },
  {
   "cell_type": "code",
   "execution_count": 8,
   "id": "9c44efbf",
   "metadata": {},
   "outputs": [
    {
     "data": {
      "image/png": "[encoded data removed]",
      "text/plain": [
       "<Figure size 640x480 with 1 Axes>"
      ]
     },
     "metadata": {},
     "output_type": "display_data"
    }
   ],
   "source": [
    "plt.hist(market.Age)\n",
    "plt.xlabel('Age group')\n",
    "plt.ylabel('Frequency')\n",
    "plt.title('Age Distribution')\n",
    "plt.show();"
   ]
  },
  {
   "cell_type": "markdown",
   "id": "416e4870",
   "metadata": {},
   "source": [
    "#### Q3: How many customers are considered Members (i.e., they use a Loyalty card while shopping) versus Normal customers"
   ]
  },
  {
   "cell_type": "code",
   "execution_count": 9,
   "id": "44040835",
   "metadata": {},
   "outputs": [
    {
     "data": {
      "text/plain": [
       "Member    501\n",
       "Normal    499\n",
       "Name: Customer type, dtype: int64"
      ]
     },
     "execution_count": 9,
     "metadata": {},
     "output_type": "execute_result"
    }
   ],
   "source": [
    "market['Customer type'].value_counts()"
   ]
  },
  {
   "cell_type": "markdown",
   "id": "4bd91d16",
   "metadata": {},
   "source": [
    "Observation: 501 customers were considered members"
   ]
  },
  {
   "cell_type": "code",
   "execution_count": 10,
   "id": "05f6ccf6",
   "metadata": {},
   "outputs": [
    {
     "data": {
      "image/png": "[encoded data removed]",
      "text/plain": [
       "<Figure size 640x480 with 1 Axes>"
      ]
     },
     "metadata": {},
     "output_type": "display_data"
    }
   ],
   "source": [
    "ax = sns.countplot(x='Customer type', data=market)\n",
    "ax.bar_label(ax.containers[0]);"
   ]
  },
  {
   "cell_type": "markdown",
   "id": "4b85f381",
   "metadata": {},
   "source": [
    "#### Q4: What is the most common method of payment to the supermarket? Which type of customers use this method the most – describe this?"
   ]
  },
  {
   "cell_type": "code",
   "execution_count": 11,
   "id": "d126d10d",
   "metadata": {},
   "outputs": [
    {
     "data": {
      "text/plain": [
       "Ewallet        345\n",
       "Cash           344\n",
       "Credit card    311\n",
       "Name: Payment, dtype: int64"
      ]
     },
     "execution_count": 11,
     "metadata": {},
     "output_type": "execute_result"
    }
   ],
   "source": [
    "market.Payment.value_counts()"
   ]
  },
  {
   "cell_type": "markdown",
   "id": "abb36cec",
   "metadata": {},
   "source": [
    "Observation: Ewallet is the most common method of payment to the supermarket"
   ]
  },
  {
   "cell_type": "code",
   "execution_count": 12,
   "id": "7ce3d04d",
   "metadata": {},
   "outputs": [],
   "source": [
    "Ewallet_cust = market[market['Payment']== 'Ewallet']"
   ]
  },
  {
   "cell_type": "code",
   "execution_count": 29,
   "id": "c3b0e83f",
   "metadata": {},
   "outputs": [
    {
     "data": {
      "text/plain": [
       "Normal    184\n",
       "Member    161\n",
       "Name: Customer type, dtype: int64"
      ]
     },
     "execution_count": 29,
     "metadata": {},
     "output_type": "execute_result"
    }
   ],
   "source": [
    "# to get the type of customer that used ewallet the most\n",
    "Ewallet_cust['Customer type'].value_counts()"
   ]
  },
  {
   "cell_type": "markdown",
   "id": "54d37638",
   "metadata": {},
   "source": [
    "0bservation: Normal are the customer type that used Ewallet the most"
   ]
  },
  {
   "cell_type": "markdown",
   "id": "568a0f66",
   "metadata": {},
   "source": [
    "#### Q5: Which product generates the most sales in the supermarket?"
   ]
  },
  {
   "cell_type": "code",
   "execution_count": 14,
   "id": "2fd1321c",
   "metadata": {},
   "outputs": [],
   "source": [
    "# to get the most sales, we need to create a new column called sales\n",
    "market['Sales']=market['cost_of_goods_sold'] + market['gross income']"
   ]
  },
  {
   "cell_type": "code",
   "execution_count": 15,
   "id": "3652ff42",
   "metadata": {},
   "outputs": [
    {
     "data": {
      "text/html": [
       "<div>\n",
       "<style scoped>\n",
       "    .dataframe tbody tr th:only-of-type {\n",
       "        vertical-align: middle;\n",
       "    }\n",
       "\n",
       "    .dataframe tbody tr th {\n",
       "        vertical-align: top;\n",
       "    }\n",
       "\n",
       "    .dataframe thead th {\n",
       "        text-align: right;\n",
       "    }\n",
       "</style>\n",
       "<table border=\"1\" class=\"dataframe\">\n",
       "  <thead>\n",
       "    <tr style=\"text-align: right;\">\n",
       "      <th></th>\n",
       "      <th>RowID</th>\n",
       "      <th>Invoice ID</th>\n",
       "      <th>Branch</th>\n",
       "      <th>City</th>\n",
       "      <th>Customer type</th>\n",
       "      <th>Gender</th>\n",
       "      <th>Product line</th>\n",
       "      <th>Unit price</th>\n",
       "      <th>Quantity</th>\n",
       "      <th>Tax 5%</th>\n",
       "      <th>...</th>\n",
       "      <th>Time</th>\n",
       "      <th>Payment</th>\n",
       "      <th>cost_of_goods_sold</th>\n",
       "      <th>gross margin percentage</th>\n",
       "      <th>gross income</th>\n",
       "      <th>Rating</th>\n",
       "      <th>Year in City</th>\n",
       "      <th>Age</th>\n",
       "      <th>ProdID</th>\n",
       "      <th>Sales</th>\n",
       "    </tr>\n",
       "  </thead>\n",
       "  <tbody>\n",
       "    <tr>\n",
       "      <th>0</th>\n",
       "      <td>0</td>\n",
       "      <td>750-67-8428</td>\n",
       "      <td>A</td>\n",
       "      <td>Yangon</td>\n",
       "      <td>Member</td>\n",
       "      <td>Female</td>\n",
       "      <td>Health and beauty</td>\n",
       "      <td>74.69</td>\n",
       "      <td>7</td>\n",
       "      <td>26.1415</td>\n",
       "      <td>...</td>\n",
       "      <td>13:08:00</td>\n",
       "      <td>Ewallet</td>\n",
       "      <td>522.83</td>\n",
       "      <td>4.761905</td>\n",
       "      <td>26.1415</td>\n",
       "      <td>9.1</td>\n",
       "      <td>8</td>\n",
       "      <td>0-17</td>\n",
       "      <td>P001</td>\n",
       "      <td>548.9715</td>\n",
       "    </tr>\n",
       "    <tr>\n",
       "      <th>1</th>\n",
       "      <td>1</td>\n",
       "      <td>226-31-3081</td>\n",
       "      <td>C</td>\n",
       "      <td>Naypyitaw</td>\n",
       "      <td>Normal</td>\n",
       "      <td>Female</td>\n",
       "      <td>Electronic accessories</td>\n",
       "      <td>15.28</td>\n",
       "      <td>5</td>\n",
       "      <td>3.8200</td>\n",
       "      <td>...</td>\n",
       "      <td>10:29:00</td>\n",
       "      <td>Cash</td>\n",
       "      <td>76.40</td>\n",
       "      <td>4.761905</td>\n",
       "      <td>3.8200</td>\n",
       "      <td>9.6</td>\n",
       "      <td>4</td>\n",
       "      <td>18-25</td>\n",
       "      <td>P002</td>\n",
       "      <td>80.2200</td>\n",
       "    </tr>\n",
       "    <tr>\n",
       "      <th>2</th>\n",
       "      <td>2</td>\n",
       "      <td>631-41-3108</td>\n",
       "      <td>A</td>\n",
       "      <td>Yangon</td>\n",
       "      <td>Normal</td>\n",
       "      <td>Male</td>\n",
       "      <td>Home and lifestyle</td>\n",
       "      <td>46.33</td>\n",
       "      <td>7</td>\n",
       "      <td>16.2155</td>\n",
       "      <td>...</td>\n",
       "      <td>13:23:00</td>\n",
       "      <td>Credit card</td>\n",
       "      <td>324.31</td>\n",
       "      <td>4.761905</td>\n",
       "      <td>16.2155</td>\n",
       "      <td>7.4</td>\n",
       "      <td>6</td>\n",
       "      <td>0-17</td>\n",
       "      <td>P003</td>\n",
       "      <td>340.5255</td>\n",
       "    </tr>\n",
       "    <tr>\n",
       "      <th>3</th>\n",
       "      <td>3</td>\n",
       "      <td>123-19-1176</td>\n",
       "      <td>A</td>\n",
       "      <td>Yangon</td>\n",
       "      <td>Member</td>\n",
       "      <td>Male</td>\n",
       "      <td>Health and beauty</td>\n",
       "      <td>58.22</td>\n",
       "      <td>8</td>\n",
       "      <td>23.2880</td>\n",
       "      <td>...</td>\n",
       "      <td>20:33:00</td>\n",
       "      <td>Ewallet</td>\n",
       "      <td>465.76</td>\n",
       "      <td>4.761905</td>\n",
       "      <td>23.2880</td>\n",
       "      <td>8.4</td>\n",
       "      <td>3</td>\n",
       "      <td>45-50</td>\n",
       "      <td>P001</td>\n",
       "      <td>489.0480</td>\n",
       "    </tr>\n",
       "    <tr>\n",
       "      <th>4</th>\n",
       "      <td>4</td>\n",
       "      <td>373-73-7910</td>\n",
       "      <td>A</td>\n",
       "      <td>Yangon</td>\n",
       "      <td>Normal</td>\n",
       "      <td>Male</td>\n",
       "      <td>Sports and travel</td>\n",
       "      <td>86.31</td>\n",
       "      <td>7</td>\n",
       "      <td>30.2085</td>\n",
       "      <td>...</td>\n",
       "      <td>10:37:00</td>\n",
       "      <td>Ewallet</td>\n",
       "      <td>604.17</td>\n",
       "      <td>4.761905</td>\n",
       "      <td>30.2085</td>\n",
       "      <td>5.3</td>\n",
       "      <td>1</td>\n",
       "      <td>55+</td>\n",
       "      <td>P004</td>\n",
       "      <td>634.3785</td>\n",
       "    </tr>\n",
       "  </tbody>\n",
       "</table>\n",
       "<p>5 rows × 22 columns</p>\n",
       "</div>"
      ],
      "text/plain": [
       "   RowID   Invoice ID Branch       City Customer type  Gender  \\\n",
       "0      0  750-67-8428      A     Yangon        Member  Female   \n",
       "1      1  226-31-3081      C  Naypyitaw        Normal  Female   \n",
       "2      2  631-41-3108      A     Yangon        Normal    Male   \n",
       "3      3  123-19-1176      A     Yangon        Member    Male   \n",
       "4      4  373-73-7910      A     Yangon        Normal    Male   \n",
       "\n",
       "             Product line  Unit price  Quantity   Tax 5%  ...      Time  \\\n",
       "0       Health and beauty       74.69         7  26.1415  ...  13:08:00   \n",
       "1  Electronic accessories       15.28         5   3.8200  ...  10:29:00   \n",
       "2      Home and lifestyle       46.33         7  16.2155  ...  13:23:00   \n",
       "3       Health and beauty       58.22         8  23.2880  ...  20:33:00   \n",
       "4       Sports and travel       86.31         7  30.2085  ...  10:37:00   \n",
       "\n",
       "       Payment cost_of_goods_sold gross margin percentage  gross income  \\\n",
       "0      Ewallet             522.83                4.761905       26.1415   \n",
       "1         Cash              76.40                4.761905        3.8200   \n",
       "2  Credit card             324.31                4.761905       16.2155   \n",
       "3      Ewallet             465.76                4.761905       23.2880   \n",
       "4      Ewallet             604.17                4.761905       30.2085   \n",
       "\n",
       "   Rating  Year in City    Age  ProdID     Sales  \n",
       "0     9.1             8   0-17    P001  548.9715  \n",
       "1     9.6             4  18-25    P002   80.2200  \n",
       "2     7.4             6   0-17    P003  340.5255  \n",
       "3     8.4             3  45-50    P001  489.0480  \n",
       "4     5.3             1    55+    P004  634.3785  \n",
       "\n",
       "[5 rows x 22 columns]"
      ]
     },
     "execution_count": 15,
     "metadata": {},
     "output_type": "execute_result"
    }
   ],
   "source": [
    "market.head()"
   ]
  },
  {
   "cell_type": "code",
   "execution_count": 16,
   "id": "b98c4a89",
   "metadata": {},
   "outputs": [
    {
     "data": {
      "text/plain": [
       "Product line\n",
       "Food and beverages        56144.8440\n",
       "Sports and travel         55122.8265\n",
       "Electronic accessories    54337.5315\n",
       "Fashion accessories       54305.8950\n",
       "Home and lifestyle        53861.9130\n",
       "Health and beauty         49193.7390\n",
       "Name: Sales, dtype: float64"
      ]
     },
     "execution_count": 16,
     "metadata": {},
     "output_type": "execute_result"
    }
   ],
   "source": [
    "m= market.groupby('Product line')['Sales'].sum().sort_values(ascending =False)\n",
    "m"
   ]
  },
  {
   "cell_type": "markdown",
   "id": "23e3d194",
   "metadata": {},
   "source": [
    "Observation: Food and beverages generate the most sales"
   ]
  },
  {
   "cell_type": "markdown",
   "id": "1ecc4fb1",
   "metadata": {},
   "source": [
    "#### Q6: Which branch generates the most sales? Which type of customers tend to use this branch the most – describe this?"
   ]
  },
  {
   "cell_type": "code",
   "execution_count": 19,
   "id": "f13b19a6",
   "metadata": {},
   "outputs": [
    {
     "data": {
      "text/plain": [
       "Branch\n",
       "C    110568.7065\n",
       "A    106200.3705\n",
       "B    106197.6720\n",
       "Name: Sales, dtype: float64"
      ]
     },
     "execution_count": 19,
     "metadata": {},
     "output_type": "execute_result"
    }
   ],
   "source": [
    "branch = market.groupby('Branch')['Sales'].sum().sort_values(ascending =False)\n",
    "branch"
   ]
  },
  {
   "cell_type": "markdown",
   "id": "2fbcecf8",
   "metadata": {},
   "source": [
    "Observation: Branch C generates the most sales"
   ]
  },
  {
   "cell_type": "code",
   "execution_count": 20,
   "id": "6b4a7a2e",
   "metadata": {},
   "outputs": [],
   "source": [
    "C_cust = market[market['Branch']== 'C']"
   ]
  },
  {
   "cell_type": "code",
   "execution_count": 21,
   "id": "a340cacc",
   "metadata": {},
   "outputs": [
    {
     "data": {
      "text/plain": [
       "Member    169\n",
       "Normal    159\n",
       "Name: Customer type, dtype: int64"
      ]
     },
     "execution_count": 21,
     "metadata": {},
     "output_type": "execute_result"
    }
   ],
   "source": [
    "C_cust['Customer type'].value_counts()"
   ]
  },
  {
   "cell_type": "markdown",
   "id": "d3687de9",
   "metadata": {},
   "source": [
    "Observation: Member tends to use Branch C the most which generates the most sales."
   ]
  },
  {
   "cell_type": "markdown",
   "id": "2013064b",
   "metadata": {},
   "source": [
    "#### Q7: Which city generates the most sales? Which type of customer contributes the most in this city – describe this?"
   ]
  },
  {
   "cell_type": "code",
   "execution_count": 22,
   "id": "e8487ae2",
   "metadata": {},
   "outputs": [
    {
     "data": {
      "text/plain": [
       "City\n",
       "Naypyitaw    110568.7065\n",
       "Yangon       106200.3705\n",
       "Mandalay     106197.6720\n",
       "Name: Sales, dtype: float64"
      ]
     },
     "execution_count": 22,
     "metadata": {},
     "output_type": "execute_result"
    }
   ],
   "source": [
    "city = market.groupby('City')['Sales'].sum().sort_values(ascending =False)\n",
    "city"
   ]
  },
  {
   "cell_type": "code",
   "execution_count": 23,
   "id": "da7ebd13",
   "metadata": {},
   "outputs": [],
   "source": [
    "City_cust = market[market['City']== 'Naypyitaw']"
   ]
  },
  {
   "cell_type": "code",
   "execution_count": 25,
   "id": "be42ee5d",
   "metadata": {},
   "outputs": [
    {
     "data": {
      "text/plain": [
       "Member    169\n",
       "Normal    159\n",
       "Name: Customer type, dtype: int64"
      ]
     },
     "execution_count": 25,
     "metadata": {},
     "output_type": "execute_result"
    }
   ],
   "source": [
    "City_cust['Customer type'].value_counts()"
   ]
  },
  {
   "cell_type": "markdown",
   "id": "1280f12d",
   "metadata": {},
   "source": [
    "#### Q8: Based on the analysis you have done, what sort of strategy do you think the supermarket should employ (i.e., in terms of product offerings, customer retention, branch promotions)?"
   ]
  },
  {
   "attachments": {},
   "cell_type": "markdown",
   "id": "d4949d58",
   "metadata": {},
   "source": [
    "1. Product Offerings: The supermarket can focus on selling the products in the Food and\n",
    "beverages category since that is what generates the most sales and have the highest\n",
    "gross income.\n",
    "2. Customer Retention: The supermarket can focus on retaining more of its customers as\n",
    "members since that proves to have the higher percentage in all the cities and all the\n",
    "branches.\n",
    "3. Branch Promotions: The supermarket can target its promotions to Branch C since it is the\n",
    "branch that generates the most sales."
   ]
  },
  {
   "cell_type": "markdown",
   "id": "f5b958a7",
   "metadata": {},
   "source": [
    "#### Q9: Do you feel the Loyalty Card has resulted in more sales by members relative to normal customers?"
   ]
  },
  {
   "cell_type": "code",
   "execution_count": 26,
   "id": "be141539",
   "metadata": {},
   "outputs": [
    {
     "data": {
      "text/plain": [
       "Customer type\n",
       "Member    164223.444\n",
       "Normal    158743.305\n",
       "Name: Sales, dtype: float64"
      ]
     },
     "execution_count": 26,
     "metadata": {},
     "output_type": "execute_result"
    }
   ],
   "source": [
    "card = market.groupby('Customer type')['Sales'].sum().sort_values(ascending =False)\n",
    "card"
   ]
  },
  {
   "cell_type": "markdown",
   "id": "446deec8",
   "metadata": {},
   "source": [
    "Observation: Yes it result to more sales"
   ]
  },
  {
   "cell_type": "code",
   "execution_count": 27,
   "id": "f733cc9f",
   "metadata": {},
   "outputs": [
    {
     "data": {
      "text/plain": [
       "Female    501\n",
       "Male      499\n",
       "Name: Gender, dtype: int64"
      ]
     },
     "execution_count": 27,
     "metadata": {},
     "output_type": "execute_result"
    }
   ],
   "source": [
    "market.Gender.value_counts()"
   ]
  },
  {
   "cell_type": "code",
   "execution_count": 28,
   "id": "b438da18",
   "metadata": {},
   "outputs": [
    {
     "data": {
      "text/plain": [
       "Gender\n",
       "Female    167882.925\n",
       "Male      155083.824\n",
       "Name: Sales, dtype: float64"
      ]
     },
     "execution_count": 28,
     "metadata": {},
     "output_type": "execute_result"
    }
   ],
   "source": [
    "gender = market.groupby('Gender')['Sales'].sum().sort_values(ascending =False)\n",
    "gender"
   ]
  },
  {
   "cell_type": "code",
   "execution_count": null,
   "id": "6ca2b854",
   "metadata": {},
   "outputs": [],
   "source": []
  }
 ],
 "metadata": {
  "kernelspec": {
   "display_name": "Python 3 (ipykernel)",
   "language": "python",
   "name": "python3"
  },
  "language_info": {
   "codemirror_mode": {
    "name": "ipython",
    "version": 3
   },
   "file_extension": ".py",
   "mimetype": "text/x-python",
   "name": "python",
   "nbconvert_exporter": "python",
   "pygments_lexer": "ipython3",
   "version": "3.9.13"
  }
 },
 "nbformat": 4,
 "nbformat_minor": 5
}
